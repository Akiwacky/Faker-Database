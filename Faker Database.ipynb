{
    "metadata": {
        "kernelspec": {
            "name": "python3",
            "display_name": "Python 3",
            "language": "python"
        },
        "language_info": {
            "name": "python",
            "version": "3.8.10",
            "mimetype": "text/x-python",
            "codemirror_mode": {
                "name": "ipython",
                "version": 3
            },
            "pygments_lexer": "ipython3",
            "nbconvert_exporter": "python",
            "file_extension": ".py"
        }
    },
    "nbformat_minor": 2,
    "nbformat": 4,
    "cells": [
        {
            "cell_type": "code",
            "source": [
                "!pip install faker\r\n",
                "!pip install pandas"
            ],
            "metadata": {
                "azdata_cell_guid": "bdb5a17f-cbce-445f-ab07-ceda7f8dacb0",
                "language": "python"
            },
            "outputs": [
                {
                    "output_type": "stream",
                    "name": "stdout",
                    "text": "Requirement already satisfied: faker in c:\\users\\aajay\\azuredatastudio-python\\lib\\site-packages (19.11.0)\nRequirement already satisfied: typing-extensions>=3.10.0.1 in c:\\users\\aajay\\appdata\\roaming\\python\\python38\\site-packages (from faker) (4.8.0)\nRequirement already satisfied: python-dateutil>=2.4 in c:\\users\\aajay\\appdata\\roaming\\python\\python38\\site-packages (from faker) (2.8.2)\nRequirement already satisfied: six>=1.5 in c:\\users\\aajay\\appdata\\roaming\\python\\python38\\site-packages (from python-dateutil>=2.4->faker) (1.16.0)\n"
                },
                {
                    "output_type": "stream",
                    "name": "stderr",
                    "text": "WARNING: You are using pip version 21.1.1; however, version 23.3.1 is available.\nYou should consider upgrading via the 'c:\\users\\aajay\\azuredatastudio-python\\python.exe -m pip install --upgrade pip' command.\n"
                },
                {
                    "output_type": "stream",
                    "name": "stdout",
                    "text": "Requirement already satisfied: pandas in c:\\users\\aajay\\azuredatastudio-python\\lib\\site-packages (2.0.3)\nRequirement already satisfied: pytz>=2020.1 in c:\\users\\aajay\\azuredatastudio-python\\lib\\site-packages (from pandas) (2023.3.post1)\nRequirement already satisfied: numpy>=1.20.3 in c:\\users\\aajay\\azuredatastudio-python\\lib\\site-packages (from pandas) (1.24.4)\nRequirement already satisfied: tzdata>=2022.1 in c:\\users\\aajay\\azuredatastudio-python\\lib\\site-packages (from pandas) (2023.3)\nRequirement already satisfied: python-dateutil>=2.8.2 in c:\\users\\aajay\\appdata\\roaming\\python\\python38\\site-packages (from pandas) (2.8.2)\nRequirement already satisfied: six>=1.5 in c:\\users\\aajay\\appdata\\roaming\\python\\python38\\site-packages (from python-dateutil>=2.8.2->pandas) (1.16.0)\n"
                },
                {
                    "output_type": "stream",
                    "name": "stderr",
                    "text": "WARNING: You are using pip version 21.1.1; however, version 23.3.1 is available.\nYou should consider upgrading via the 'c:\\users\\aajay\\azuredatastudio-python\\python.exe -m pip install --upgrade pip' command.\n"
                }
            ],
            "execution_count": 1
        },
        {
            "cell_type": "code",
            "source": [
                "from faker import Faker\r\n",
                "from faker.providers import DynamicProvider\r\n",
                "import random\r\n",
                "import pandas as pd"
            ],
            "metadata": {
                "language": "python",
                "azdata_cell_guid": "63319f4d-b50f-4132-b7ca-7747422ed4bf"
            },
            "outputs": [],
            "execution_count": 2
        },
        {
            "cell_type": "markdown",
            "source": [
                "# Creation of Database"
            ],
            "metadata": {
                "azdata_cell_guid": "f750c039-741d-45ac-9af3-16d69a6acf00"
            },
            "attachments": {}
        },
        {
            "cell_type": "code",
            "source": [
                "fake = Faker('en_UK')"
            ],
            "metadata": {
                "azdata_cell_guid": "151939e2-c3bf-4faa-aab7-ba56aec43c94",
                "language": "python"
            },
            "outputs": [],
            "execution_count": 3
        },
        {
            "cell_type": "code",
            "source": [
                "products_provider = DynamicProvider(\r\n",
                "     provider_name=\"products\",\r\n",
                "elements=[\r\n",
                "    (1, 'TechTrak Smartwatch', 1),\r\n",
                "    (2, 'PowerPulse Wireless Charger', 1),\r\n",
                "    (3, 'AudioStream Bluetooth Speaker', 1),\r\n",
                "    (4, 'VoltVision HD Webcam', 1),\r\n",
                "    (5, 'PixelSync Gaming Monitor', 1),\r\n",
                "    (6, 'EcoCharge Solar Power Bank', 1),\r\n",
                "    (7, 'CyberLink Home Security System', 1),\r\n",
                "    (8, 'PixelGlide Graphics Tablet', 1),\r\n",
                "    (9, 'WaveSync Wireless Earbuds', 1),\r\n",
                "    (10, 'QuantumDrive External SSD', 1),\r\n",
                "    (11, 'DynaSync Smart Thermostat', 1),\r\n",
                "    (12, 'LightLink Smart Bulb', 1),\r\n",
                "    (13, 'AeroGlide Drone', 1),\r\n",
                "    (14, 'SonicLink Noise-Canceling Headphones', 1),\r\n",
                "    (15, 'VisionQuest VR Headset', 1),\r\n",
                "    (16, 'TerraLink GPS Tracker', 1),\r\n",
                "    (17, 'AquaGuard Waterproof Phone Case', 1),\r\n",
                "    (18, 'eReaderX E-Ink Reader', 1),\r\n",
                "    (19, 'VitalScan Health Monitor', 1),\r\n",
                "    (20, 'AstroView Telescope', 1),\r\n",
                "    (21, 'FreshFlour Artisan Bread', 2),\r\n",
                "    (22, 'SliceRight Whole Wheat Loaf', 2),\r\n",
                "    (23, 'SweetTreats Bakery Delights', 2),\r\n",
                "    (24, 'CrispCrust Baguette', 2),\r\n",
                "    (25, 'CanMaster Tomato Sauce', 2),\r\n",
                "    (26, 'VeggieHarvest Mixed Vegetables', 2),\r\n",
                "    (27, 'SoupSavor Chicken Noodle Soup', 2),\r\n",
                "    (28, 'BeanBlend Three-Bean Chili', 2),\r\n",
                "    (29, 'MooMagic Organic Milk', 2),\r\n",
                "    (30, 'AlmondEaze Almond Milk', 2),\r\n",
                "    (31, 'CreamyDelight Greek Yogurt', 2),\r\n",
                "    (32, 'ButterBliss Salted Butter', 2),\r\n",
                "    (33, 'CrunchWave Potato Chips', 2),\r\n",
                "    (34, 'NuttyMunch Trail Mix', 2),\r\n",
                "    (35, 'PopCraze Popcorn', 2),\r\n",
                "    (36, 'SnackAttack Veggie Chips', 2),\r\n",
                "    (37, 'QuenchLife Fruit Juice', 2),\r\n",
                "    (38, 'BrewMaster Coffee Beans', 2),\r\n",
                "    (39, 'SipSational Iced Tea', 2),\r\n",
                "    (40, 'SodaSplash Cola', 2),\r\n",
                "    (41, 'MorningFuel Cereal Bars', 2),\r\n",
                "    (42, 'CrunchyOats Granola', 2),\r\n",
                "    (43, 'GoldenStart Pancake Mix', 2),\r\n",
                "    (44, 'BerryBlast Fruit Spread', 2),\r\n",
                "    (45, 'FrostyBites Frozen Pizza', 2),\r\n",
                "    (46, 'VeggieFreeze Mixed Berries', 2),\r\n",
                "    (47, 'IceCreamDreams Vanilla Ice Cream', 2),\r\n",
                "    (48, 'HeatNServe Chicken Tenders', 2),\r\n",
                "    (49, 'SaucySensation Tomato Ketchup', 2),\r\n",
                "    (50, 'SpiceFusion BBQ Sauce', 2),\r\n",
                "    (51, 'OliveGrove Extra Virgin Olive Oil', 2),\r\n",
                "    (52, 'MustardMagic Dijon Mustard', 2),\r\n",
                "    (53, 'FreshHarvest Organic Apples', 2),\r\n",
                "    (54, 'GreenLeafy Greens Mix', 2),\r\n",
                "    (55, 'BerryBounty Blueberries', 2),\r\n",
                "    (56, 'SweetSensation Strawberries', 2),\r\n",
                "    (57, 'PrimeCut Beef Steak', 2),\r\n",
                "    (58, 'SeaFresh Salmon Fillet', 2),\r\n",
                "    (59, 'ChickenDeluxe Boneless Chicken Breast', 2),\r\n",
                "    (60, 'GrillMaster BBQ Ribs', 2),\r\n",
                "    (61, 'ComfyCotton T-Shirt', 3),\r\n",
                "    (62, 'DenimDream Jeans', 3),\r\n",
                "    (63, 'FashionFusion Dress', 3),\r\n",
                "    (64, 'CozyKnit Sweater', 3),\r\n",
                "    (65, 'ActiveLife Yoga Pants', 3),\r\n",
                "    (66, 'ClassicChic Blazer', 3),\r\n",
                "    (67, 'SportyStride Sneakers', 3),\r\n",
                "    (68, 'GlamourGlow Evening Gown', 3),\r\n",
                "    (69, 'CoolBreeze Summer Shorts', 3),\r\n",
                "    (70, 'UrbanEdge Leather Jacket', 3),\r\n",
                "    (71, 'WarmUp Winter Coat', 3),\r\n",
                "    (72, 'LuxeLinen Dress Shirt', 3),\r\n",
                "    (73, 'EcoChic Organic Cotton Tee', 3),\r\n",
                "    (74, 'WorkoutWarrior Athletic Shorts', 3),\r\n",
                "    (75, 'ChicComfort Leggings', 3),\r\n",
                "    (76, 'SmartStyle Business Suit', 3),\r\n",
                "    (77, 'RunReady Sports Bra', 3),\r\n",
                "    (78, 'SleekSilk Scarf', 3),\r\n",
                "    (79, 'DenimDelight Jumpsuit', 3),\r\n",
                "    (80, 'CharmChiffon Blouse', 3),\r\n",
                "    (81, 'SunSplash Swimwear', 3),\r\n",
                "    (82, 'LaidBack Linen Pants', 3),\r\n",
                "    (83, 'Footloose Flip-Flops', 3),\r\n",
                "    (84, 'SnowHike Snow Boots', 3),\r\n",
                "    (85, 'HikingHero Outdoor Jacket', 3),\r\n",
                "    (86, 'Wanderlust Travel Hat', 3),\r\n",
                "    (87, 'DapperDress Socks', 3),\r\n",
                "    (88, 'RetroRevival Vintage Jacket', 3),\r\n",
                "    (89, 'TrailTrek Hiking Shorts', 3),\r\n",
                "    (90, 'PlaidPerfection Flannel Shirt', 3),\r\n",
                "    (91, 'LiteraryGems Book Set', 4),\r\n",
                "    (92, \"Bookworm's Paradise Reading Lamp\", 4),\r\n",
                "    (93, 'NovelNavigator Bookshelf', 4),\r\n",
                "    (94, 'Inkwell Treasures Journal', 4),\r\n",
                "    (95, 'ClassicCollection Hardcover Classics', 4),\r\n",
                "    (96, \"Storyteller's Dream Pen\", 4),\r\n",
                "    (97, \"BookLover's Bliss Reading Chair\", 4),\r\n",
                "    (98, 'WhisperingPages E-Reader', 4),\r\n",
                "    (99, 'Bookmark Bonanza Set', 4),\r\n",
                "    (100, 'BookNook Miniature Library', 4),\r\n",
                "    (101, 'BookishBundle Subscription Box', 4),\r\n",
                "    (102, 'PageTurner Reading Glasses', 4),\r\n",
                "    (103, 'BookWormhole Bookends', 4),\r\n",
                "    (104, 'BookishCharm Bracelet', 4),\r\n",
                "    (105, 'BookBound Planner', 4),\r\n",
                "    (106, 'NovelEscape Cozy Blanket', 4),\r\n",
                "    (107, 'LiteraryJourney World Map', 4),\r\n",
                "    (108, 'BookClub Companion Tote Bag', 4),\r\n",
                "    (109, 'LibraryLegacy Bookplate Stickers', 4),\r\n",
                "    (110, 'ReadersDelight Bookstand', 4),\r\n",
                "    (111, 'ShakespeareanSonnet Poster', 4),\r\n",
                "    (112, 'BookishQuotes Wall Decals', 4),\r\n",
                "    (113, \"Bibliophile's Delight Puzzle\", 4),\r\n",
                "    (114, 'ChapterVerse Bookmarks', 4),\r\n",
                "    (115, \"BookWorm's Delight Mug\", 4),\r\n",
                "    (116, 'FairyTales Illustrated Art Prints', 4),\r\n",
                "    (117, 'PoetryPonder Notebook', 4),\r\n",
                "    (118, 'BookishElegance Book Cover', 4),\r\n",
                "    (119, 'StorybookCandle Collection', 4),\r\n",
                "    (120, \"Booklover's Retreat Coasters\", 4),\r\n",
                "]\r\n",
                ")"
            ],
            "metadata": {
                "language": "python",
                "azdata_cell_guid": "c7d4d9b8-a749-4e98-bbc5-e5b5d1bfe4a8"
            },
            "outputs": [],
            "execution_count": 4
        },
        {
            "cell_type": "code",
            "source": [
                "# Number of records you want to generate\r\n",
                "num_products = 120\r\n",
                "num_customers = 50\r\n",
                "num_orders = 150"
            ],
            "metadata": {
                "azdata_cell_guid": "f02c82d3-0bd2-46be-b18c-84be5816a369",
                "language": "python"
            },
            "outputs": [],
            "execution_count": 5
        },
        {
            "cell_type": "markdown",
            "source": [
                "## Products"
            ],
            "metadata": {
                "language": "python",
                "azdata_cell_guid": "88c8c2df-c62d-466c-b322-bb6e0c5f97ac"
            },
            "attachments": {}
        },
        {
            "cell_type": "code",
            "source": [
                "fake.add_provider(products_provider)\r\n",
                "\r\n",
                "# Products\r\n",
                "products = []\r\n",
                "for _ in range(num_products):\r\n",
                "    product_id = len(products) + 1\r\n",
                "    product_id, product_name, category_id = fake.unique.products()  # Using unique names as product names for simplicity\r\n",
                "    price = round(random.uniform(5.0, 500.0), 2)  # Random price between $5 and $500\r\n",
                "    stock = fake.random_int(min=0, max=100)\r\n",
                "    products.append((product_id, product_name,price, stock, category_id))"
            ],
            "metadata": {
                "language": "python",
                "azdata_cell_guid": "c228e71e-de49-4a4f-9488-4a77ac7f7f9b"
            },
            "outputs": [],
            "execution_count": 6
        },
        {
            "cell_type": "code",
            "source": [
                "products_df = pd.DataFrame(products, columns=['product_id', 'product_name','price', 'stock', 'category_id'])\r\n",
                "products_df.head()"
            ],
            "metadata": {
                "language": "python",
                "azdata_cell_guid": "13775692-bed8-45eb-bcec-3d0fe6874e31"
            },
            "outputs": [
                {
                    "output_type": "execute_result",
                    "execution_count": 7,
                    "data": {
                        "text/plain": "   product_id                   product_name   price  stock  category_id\n0           3  AudioStream Bluetooth Speaker  249.87     78            1\n1          66             ClassicChic Blazer  421.10     59            3\n2          82           LaidBack Linen Pants  306.74     17            3\n3          12           LightLink Smart Bulb  427.65     24            1\n4          71             WarmUp Winter Coat  382.63     68            3",
                        "text/html": "<div>\n<style scoped>\n    .dataframe tbody tr th:only-of-type {\n        vertical-align: middle;\n    }\n\n    .dataframe tbody tr th {\n        vertical-align: top;\n    }\n\n    .dataframe thead th {\n        text-align: right;\n    }\n</style>\n<table border=\"1\" class=\"dataframe\">\n  <thead>\n    <tr style=\"text-align: right;\">\n      <th></th>\n      <th>product_id</th>\n      <th>product_name</th>\n      <th>price</th>\n      <th>stock</th>\n      <th>category_id</th>\n    </tr>\n  </thead>\n  <tbody>\n    <tr>\n      <th>0</th>\n      <td>3</td>\n      <td>AudioStream Bluetooth Speaker</td>\n      <td>249.87</td>\n      <td>78</td>\n      <td>1</td>\n    </tr>\n    <tr>\n      <th>1</th>\n      <td>66</td>\n      <td>ClassicChic Blazer</td>\n      <td>421.10</td>\n      <td>59</td>\n      <td>3</td>\n    </tr>\n    <tr>\n      <th>2</th>\n      <td>82</td>\n      <td>LaidBack Linen Pants</td>\n      <td>306.74</td>\n      <td>17</td>\n      <td>3</td>\n    </tr>\n    <tr>\n      <th>3</th>\n      <td>12</td>\n      <td>LightLink Smart Bulb</td>\n      <td>427.65</td>\n      <td>24</td>\n      <td>1</td>\n    </tr>\n    <tr>\n      <th>4</th>\n      <td>71</td>\n      <td>WarmUp Winter Coat</td>\n      <td>382.63</td>\n      <td>68</td>\n      <td>3</td>\n    </tr>\n  </tbody>\n</table>\n</div>"
                    },
                    "metadata": {}
                }
            ],
            "execution_count": 7
        },
        {
            "cell_type": "markdown",
            "source": [
                "## Customers"
            ],
            "metadata": {
                "language": "python",
                "azdata_cell_guid": "35627151-ff54-40fd-8f6f-7baf3fdaed1c"
            },
            "attachments": {}
        },
        {
            "cell_type": "code",
            "source": [
                "customers = []\r\n",
                "for index in range(num_customers):\r\n",
                "    customer_id = len(customers) + 1\r\n",
                "    fname = fake.unique.first_name()\r\n",
                "    lname = fake.unique.last_name()\r\n",
                "    name = f'{fname} {lname}'\r\n",
                "    email = \"\".join([part.lower() for part in name.split()]) + \"@example.com\"\r\n",
                "    address = fake.address().replace('\\n', ', ')\r\n",
                "    customers.append((customer_id, name, email, address))"
            ],
            "metadata": {
                "language": "python",
                "azdata_cell_guid": "8f34281a-a278-412b-b4c1-ad5f4ac24271",
                "tags": []
            },
            "outputs": [],
            "execution_count": 8
        },
        {
            "cell_type": "code",
            "source": [
                "customers_df = pd.DataFrame(customers, columns=['customer_id', 'name', 'email', 'address'])\r\n",
                "customers_df.head()"
            ],
            "metadata": {
                "language": "python",
                "azdata_cell_guid": "37645aac-1280-4887-b3d7-827ebff3958f"
            },
            "outputs": [
                {
                    "output_type": "execute_result",
                    "execution_count": 9,
                    "data": {
                        "text/plain": "   customer_id             name                       email  \\\n0            1    Graeme Walker    graemewalker@example.com   \n1            2    Thomas Wilson    thomaswilson@example.com   \n2            3  Shaun Whittaker  shaunwhittaker@example.com   \n3            4   Eleanor Warren   eleanorwarren@example.com   \n4            5  Dennis Robinson  dennisrobinson@example.com   \n\n                                             address  \n0          4 Wood station, South Thomasport, S7U 6WW  \n1               2 Murphy island, Jordanmouth, N0 6TW  \n2          389 Bradley street, Hartborough, SA46 1XH  \n3  Flat 39, Wallace creek, West Mohammedchester, ...  \n4                99 Rogers cliff, Joyceburgh, B8 0BD  ",
                        "text/html": "<div>\n<style scoped>\n    .dataframe tbody tr th:only-of-type {\n        vertical-align: middle;\n    }\n\n    .dataframe tbody tr th {\n        vertical-align: top;\n    }\n\n    .dataframe thead th {\n        text-align: right;\n    }\n</style>\n<table border=\"1\" class=\"dataframe\">\n  <thead>\n    <tr style=\"text-align: right;\">\n      <th></th>\n      <th>customer_id</th>\n      <th>name</th>\n      <th>email</th>\n      <th>address</th>\n    </tr>\n  </thead>\n  <tbody>\n    <tr>\n      <th>0</th>\n      <td>1</td>\n      <td>Graeme Walker</td>\n      <td>graemewalker@example.com</td>\n      <td>4 Wood station, South Thomasport, S7U 6WW</td>\n    </tr>\n    <tr>\n      <th>1</th>\n      <td>2</td>\n      <td>Thomas Wilson</td>\n      <td>thomaswilson@example.com</td>\n      <td>2 Murphy island, Jordanmouth, N0 6TW</td>\n    </tr>\n    <tr>\n      <th>2</th>\n      <td>3</td>\n      <td>Shaun Whittaker</td>\n      <td>shaunwhittaker@example.com</td>\n      <td>389 Bradley street, Hartborough, SA46 1XH</td>\n    </tr>\n    <tr>\n      <th>3</th>\n      <td>4</td>\n      <td>Eleanor Warren</td>\n      <td>eleanorwarren@example.com</td>\n      <td>Flat 39, Wallace creek, West Mohammedchester, ...</td>\n    </tr>\n    <tr>\n      <th>4</th>\n      <td>5</td>\n      <td>Dennis Robinson</td>\n      <td>dennisrobinson@example.com</td>\n      <td>99 Rogers cliff, Joyceburgh, B8 0BD</td>\n    </tr>\n  </tbody>\n</table>\n</div>"
                    },
                    "metadata": {}
                }
            ],
            "execution_count": 9
        },
        {
            "cell_type": "markdown",
            "source": [
                "## Locations"
            ],
            "metadata": {
                "language": "python",
                "azdata_cell_guid": "bc52204b-b8d5-4fb2-9d47-1185c564a055"
            },
            "attachments": {}
        },
        {
            "cell_type": "code",
            "source": [
                "numbers = list(range(1, num_customers+1))\r\n",
                "result = []\r\n",
                "locations = []\r\n",
                "Faker.seed(0)\r\n",
                "for index in range(num_customers):\r\n",
                "  location_id = index + 1\r\n",
                "  _, _, city, country_code, continent = fake.location_on_land()\r\n",
                "  customer_id = random.choice(numbers)\r\n",
                "  result.append(customer_id)\r\n",
                "  numbers.remove(customer_id)\r\n",
                "  locations.append((location_id, city, country_code, continent, customer_id))"
            ],
            "metadata": {
                "language": "python",
                "azdata_cell_guid": "83b6790c-a587-4acb-b3cf-bb9ba209bdac"
            },
            "outputs": [],
            "execution_count": 10
        },
        {
            "cell_type": "code",
            "source": [
                "locations_df = pd.DataFrame(locations, columns=['location_id', 'city', 'country_code', 'continent', 'customer_id'])\r\n",
                "locations_df['continent'] = [x.split('/')[0] for x in locations_df['continent']]\r\n",
                "locations_df.head()"
            ],
            "metadata": {
                "language": "python",
                "azdata_cell_guid": "ed251c17-b7f6-4c57-913a-82eb008576da"
            },
            "outputs": [
                {
                    "output_type": "execute_result",
                    "execution_count": 11,
                    "data": {
                        "text/plain": "   location_id         city country_code continent  customer_id\n0            1   Iron River           US   America            2\n1            2        Patti           IN      Asia           41\n2            3      Kherson           UA    Europe           10\n3            4    Mira Mesa           US   America           46\n4            5  Betamcherla           IN      Asia           36",
                        "text/html": "<div>\n<style scoped>\n    .dataframe tbody tr th:only-of-type {\n        vertical-align: middle;\n    }\n\n    .dataframe tbody tr th {\n        vertical-align: top;\n    }\n\n    .dataframe thead th {\n        text-align: right;\n    }\n</style>\n<table border=\"1\" class=\"dataframe\">\n  <thead>\n    <tr style=\"text-align: right;\">\n      <th></th>\n      <th>location_id</th>\n      <th>city</th>\n      <th>country_code</th>\n      <th>continent</th>\n      <th>customer_id</th>\n    </tr>\n  </thead>\n  <tbody>\n    <tr>\n      <th>0</th>\n      <td>1</td>\n      <td>Iron River</td>\n      <td>US</td>\n      <td>America</td>\n      <td>2</td>\n    </tr>\n    <tr>\n      <th>1</th>\n      <td>2</td>\n      <td>Patti</td>\n      <td>IN</td>\n      <td>Asia</td>\n      <td>41</td>\n    </tr>\n    <tr>\n      <th>2</th>\n      <td>3</td>\n      <td>Kherson</td>\n      <td>UA</td>\n      <td>Europe</td>\n      <td>10</td>\n    </tr>\n    <tr>\n      <th>3</th>\n      <td>4</td>\n      <td>Mira Mesa</td>\n      <td>US</td>\n      <td>America</td>\n      <td>46</td>\n    </tr>\n    <tr>\n      <th>4</th>\n      <td>5</td>\n      <td>Betamcherla</td>\n      <td>IN</td>\n      <td>Asia</td>\n      <td>36</td>\n    </tr>\n  </tbody>\n</table>\n</div>"
                    },
                    "metadata": {}
                }
            ],
            "execution_count": 11
        },
        {
            "cell_type": "markdown",
            "source": [
                "## Orders & Order Details"
            ],
            "metadata": {
                "language": "python",
                "azdata_cell_guid": "d9ef4571-b938-4ed5-9cf0-9b87feb5675d"
            },
            "attachments": {}
        },
        {
            "cell_type": "code",
            "source": [
                "orders = []\r\n",
                "order_details = []\r\n",
                "for _ in range(num_orders):\r\n",
                "    order_id = len(orders) + 1\r\n",
                "    customer_id = fake.random_int(min=1, max=num_customers)\r\n",
                "    date = fake.date_this_decade()\r\n",
                "    payment_method_id = fake.random_int(min=1, max=5)\r\n",
                "    orders.append((order_id, date, customer_id, payment_method_id))\r\n",
                "\r\n",
                "    for _ in range(fake.random_int(min=1, max=5)):  # 1 to 5 products per order\r\n",
                "        orderDetails_id = len(order_details) + 1\r\n",
                "        product_id = fake.random_int(min=1, max=num_products)\r\n",
                "        quantity = fake.random_int(min=1, max=5)\r\n",
                "        order_details.append((orderDetails_id, quantity, product_id, order_id ))"
            ],
            "metadata": {
                "language": "python",
                "azdata_cell_guid": "d8785e9e-7503-4c2e-aeaf-0a18d4870a45"
            },
            "outputs": [],
            "execution_count": 17
        },
        {
            "cell_type": "code",
            "source": [
                "orders_df = pd.DataFrame(orders, columns=['orders_id','date', 'customer_id', 'payment_method_id'])\r\n",
                "orders_df.head()"
            ],
            "metadata": {
                "language": "python",
                "azdata_cell_guid": "93dbd460-6213-4540-9139-849eee7659f9"
            },
            "outputs": [
                {
                    "output_type": "execute_result",
                    "execution_count": 14,
                    "data": {
                        "text/plain": "   orders_id        date  customer_id  payment_method_id\n0          1  2021-02-08           34                  1\n1          2  2023-02-08           16                  3\n2          3  2021-01-05           15                  2\n3          4  2021-03-28           36                  1\n4          5  2021-05-07           25                  5",
                        "text/html": "<div>\n<style scoped>\n    .dataframe tbody tr th:only-of-type {\n        vertical-align: middle;\n    }\n\n    .dataframe tbody tr th {\n        vertical-align: top;\n    }\n\n    .dataframe thead th {\n        text-align: right;\n    }\n</style>\n<table border=\"1\" class=\"dataframe\">\n  <thead>\n    <tr style=\"text-align: right;\">\n      <th></th>\n      <th>orders_id</th>\n      <th>date</th>\n      <th>customer_id</th>\n      <th>payment_method_id</th>\n    </tr>\n  </thead>\n  <tbody>\n    <tr>\n      <th>0</th>\n      <td>1</td>\n      <td>2021-02-08</td>\n      <td>34</td>\n      <td>1</td>\n    </tr>\n    <tr>\n      <th>1</th>\n      <td>2</td>\n      <td>2023-02-08</td>\n      <td>16</td>\n      <td>3</td>\n    </tr>\n    <tr>\n      <th>2</th>\n      <td>3</td>\n      <td>2021-01-05</td>\n      <td>15</td>\n      <td>2</td>\n    </tr>\n    <tr>\n      <th>3</th>\n      <td>4</td>\n      <td>2021-03-28</td>\n      <td>36</td>\n      <td>1</td>\n    </tr>\n    <tr>\n      <th>4</th>\n      <td>5</td>\n      <td>2021-05-07</td>\n      <td>25</td>\n      <td>5</td>\n    </tr>\n  </tbody>\n</table>\n</div>"
                    },
                    "metadata": {}
                }
            ],
            "execution_count": 14
        },
        {
            "cell_type": "code",
            "source": [
                "order_details_df = pd.DataFrame(order_details, columns=['orderDetails_id', 'quantity', 'product_id', 'order_id'])\r\n",
                "order_details_df.head()"
            ],
            "metadata": {
                "language": "python",
                "azdata_cell_guid": "d72c78fb-0d08-48a0-90bd-8d1942147cb6"
            },
            "outputs": [
                {
                    "output_type": "execute_result",
                    "execution_count": 18,
                    "data": {
                        "text/plain": "   orderDetails_id  quantity  product_id  order_id\n0                1         2          94         1\n1                2         4          24         2\n2                3         5          10         2\n3                4         2          58         2\n4                5         1         115         3",
                        "text/html": "<div>\n<style scoped>\n    .dataframe tbody tr th:only-of-type {\n        vertical-align: middle;\n    }\n\n    .dataframe tbody tr th {\n        vertical-align: top;\n    }\n\n    .dataframe thead th {\n        text-align: right;\n    }\n</style>\n<table border=\"1\" class=\"dataframe\">\n  <thead>\n    <tr style=\"text-align: right;\">\n      <th></th>\n      <th>orderDetails_id</th>\n      <th>quantity</th>\n      <th>product_id</th>\n      <th>order_id</th>\n    </tr>\n  </thead>\n  <tbody>\n    <tr>\n      <th>0</th>\n      <td>1</td>\n      <td>2</td>\n      <td>94</td>\n      <td>1</td>\n    </tr>\n    <tr>\n      <th>1</th>\n      <td>2</td>\n      <td>4</td>\n      <td>24</td>\n      <td>2</td>\n    </tr>\n    <tr>\n      <th>2</th>\n      <td>3</td>\n      <td>5</td>\n      <td>10</td>\n      <td>2</td>\n    </tr>\n    <tr>\n      <th>3</th>\n      <td>4</td>\n      <td>2</td>\n      <td>58</td>\n      <td>2</td>\n    </tr>\n    <tr>\n      <th>4</th>\n      <td>5</td>\n      <td>1</td>\n      <td>115</td>\n      <td>3</td>\n    </tr>\n  </tbody>\n</table>\n</div>"
                    },
                    "metadata": {}
                }
            ],
            "execution_count": 18
        },
        {
            "cell_type": "markdown",
            "source": [
                "## Payment Methods"
            ],
            "metadata": {
                "language": "python",
                "azdata_cell_guid": "d156642c-ca2a-4108-97ce-2f0c40d43002"
            },
            "attachments": {}
        },
        {
            "cell_type": "code",
            "source": [
                "payment_methods = [\r\n",
                "    (1, \"Credit Card\"),\r\n",
                "    (2, \"PayPal\"),\r\n",
                "    (3, \"Bitcoin\"),\r\n",
                "    (4, \"Venmo\"),\r\n",
                "    (5, \"Apple Pay\"),\r\n",
                "]\r\n",
                "payment_methods_df = pd.DataFrame(payment_methods, columns=['paymentID','payment_methods'])\r\n",
                "payment_methods_df"
            ],
            "metadata": {
                "language": "python",
                "azdata_cell_guid": "78e2eaec-9f5d-44e7-9ef9-c27792524110"
            },
            "outputs": [
                {
                    "output_type": "execute_result",
                    "execution_count": 24,
                    "data": {
                        "text/plain": "   paymentID payment_methods\n0          1     Credit Card\n1          2          PayPal\n2          3         Bitcoin\n3          4           Venmo\n4          5       Apple Pay",
                        "text/html": "<div>\n<style scoped>\n    .dataframe tbody tr th:only-of-type {\n        vertical-align: middle;\n    }\n\n    .dataframe tbody tr th {\n        vertical-align: top;\n    }\n\n    .dataframe thead th {\n        text-align: right;\n    }\n</style>\n<table border=\"1\" class=\"dataframe\">\n  <thead>\n    <tr style=\"text-align: right;\">\n      <th></th>\n      <th>paymentID</th>\n      <th>payment_methods</th>\n    </tr>\n  </thead>\n  <tbody>\n    <tr>\n      <th>0</th>\n      <td>1</td>\n      <td>Credit Card</td>\n    </tr>\n    <tr>\n      <th>1</th>\n      <td>2</td>\n      <td>PayPal</td>\n    </tr>\n    <tr>\n      <th>2</th>\n      <td>3</td>\n      <td>Bitcoin</td>\n    </tr>\n    <tr>\n      <th>3</th>\n      <td>4</td>\n      <td>Venmo</td>\n    </tr>\n    <tr>\n      <th>4</th>\n      <td>5</td>\n      <td>Apple Pay</td>\n    </tr>\n  </tbody>\n</table>\n</div>"
                    },
                    "metadata": {}
                }
            ],
            "execution_count": 24
        },
        {
            "cell_type": "markdown",
            "source": [
                "## Categories"
            ],
            "metadata": {
                "language": "python",
                "azdata_cell_guid": "968b3ddc-83eb-4f5d-b143-e21f65b32360"
            },
            "attachments": {}
        },
        {
            "cell_type": "code",
            "source": [
                "categories = [\r\n",
                "      (1, 'electronics' ),\r\n",
                "      (2, 'groceries' ),\r\n",
                "      (3, 'clothing' ),\r\n",
                "      (4, 'book' )\r\n",
                "    ]\r\n",
                "categories_df = pd.DataFrame(categories, columns=['categoryID','categories'])\r\n",
                "categories_df"
            ],
            "metadata": {
                "language": "python",
                "azdata_cell_guid": "a051d7d8-e1bc-4ea2-83ce-40c187466e0b"
            },
            "outputs": [
                {
                    "output_type": "execute_result",
                    "execution_count": 25,
                    "data": {
                        "text/plain": "   categoryID   categories\n0           1  electronics\n1           2    groceries\n2           3     clothing\n3           4         book",
                        "text/html": "<div>\n<style scoped>\n    .dataframe tbody tr th:only-of-type {\n        vertical-align: middle;\n    }\n\n    .dataframe tbody tr th {\n        vertical-align: top;\n    }\n\n    .dataframe thead th {\n        text-align: right;\n    }\n</style>\n<table border=\"1\" class=\"dataframe\">\n  <thead>\n    <tr style=\"text-align: right;\">\n      <th></th>\n      <th>categoryID</th>\n      <th>categories</th>\n    </tr>\n  </thead>\n  <tbody>\n    <tr>\n      <th>0</th>\n      <td>1</td>\n      <td>electronics</td>\n    </tr>\n    <tr>\n      <th>1</th>\n      <td>2</td>\n      <td>groceries</td>\n    </tr>\n    <tr>\n      <th>2</th>\n      <td>3</td>\n      <td>clothing</td>\n    </tr>\n    <tr>\n      <th>3</th>\n      <td>4</td>\n      <td>book</td>\n    </tr>\n  </tbody>\n</table>\n</div>"
                    },
                    "metadata": {}
                }
            ],
            "execution_count": 25
        },
        {
            "cell_type": "markdown",
            "source": [
                "# Convert the data to CSV to load into Database"
            ],
            "metadata": {
                "language": "python",
                "azdata_cell_guid": "9446abc9-1d57-4106-9210-eb9ed6e7b5a6"
            },
            "attachments": {}
        },
        {
            "cell_type": "code",
            "source": [
                "products_df.to_csv('products.csv', index=False)\r\n",
                "customers_df.to_csv('customers.csv', index=False)\r\n",
                "locations_df.to_csv('locations.csv', index=False)\r\n",
                "order_details_df.to_csv('orderDetails.csv', index=False)\r\n",
                "orders_df.to_csv('orders.csv', index=False), \r\n",
                "categories_df.to_csv('categories.csv', index=False),\r\n",
                "payment_methods_df.to_csv('payment_methods.csv', index=False)"
            ],
            "metadata": {
                "language": "python",
                "azdata_cell_guid": "c7c3dd34-5268-4ef9-835b-d77632075c54"
            },
            "outputs": [],
            "execution_count": 27
        }
    ]
}